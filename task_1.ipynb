{
 "cells": [
  {
   "cell_type": "markdown",
   "metadata": {},
   "source": [
    "### Install Required Libs"
   ]
  },
  {
   "cell_type": "code",
   "execution_count": 1,
   "metadata": {},
   "outputs": [
    {
     "name": "stdout",
     "output_type": "stream",
     "text": [
      "Requirement already satisfied: numpy in c:\\users\\yeganeh\\appdata\\local\\programs\\python\\python312\\lib\\site-packages (1.26.3)\n",
      "Note: you may need to restart the kernel to use updated packages.\n",
      "Requirement already satisfied: matplotlib in c:\\users\\yeganeh\\appdata\\local\\programs\\python\\python312\\lib\\site-packages (3.8.2)\n",
      "Requirement already satisfied: contourpy>=1.0.1 in c:\\users\\yeganeh\\appdata\\local\\programs\\python\\python312\\lib\\site-packages (from matplotlib) (1.2.0)\n",
      "Requirement already satisfied: cycler>=0.10 in c:\\users\\yeganeh\\appdata\\local\\programs\\python\\python312\\lib\\site-packages (from matplotlib) (0.12.1)\n",
      "Requirement already satisfied: fonttools>=4.22.0 in c:\\users\\yeganeh\\appdata\\local\\programs\\python\\python312\\lib\\site-packages (from matplotlib) (4.47.2)\n",
      "Requirement already satisfied: kiwisolver>=1.3.1 in c:\\users\\yeganeh\\appdata\\local\\programs\\python\\python312\\lib\\site-packages (from matplotlib) (1.4.5)\n",
      "Requirement already satisfied: numpy<2,>=1.21 in c:\\users\\yeganeh\\appdata\\local\\programs\\python\\python312\\lib\\site-packages (from matplotlib) (1.26.3)\n",
      "Requirement already satisfied: packaging>=20.0 in c:\\users\\yeganeh\\appdata\\local\\programs\\python\\python312\\lib\\site-packages (from matplotlib) (23.2)\n",
      "Requirement already satisfied: pillow>=8 in c:\\users\\yeganeh\\appdata\\local\\programs\\python\\python312\\lib\\site-packages (from matplotlib) (10.2.0)\n",
      "Requirement already satisfied: pyparsing>=2.3.1 in c:\\users\\yeganeh\\appdata\\local\\programs\\python\\python312\\lib\\site-packages (from matplotlib) (3.1.1)\n",
      "Requirement already satisfied: python-dateutil>=2.7 in c:\\users\\yeganeh\\appdata\\local\\programs\\python\\python312\\lib\\site-packages (from matplotlib) (2.8.2)\n",
      "Requirement already satisfied: six>=1.5 in c:\\users\\yeganeh\\appdata\\local\\programs\\python\\python312\\lib\\site-packages (from python-dateutil>=2.7->matplotlib) (1.16.0)\n",
      "Note: you may need to restart the kernel to use updated packages.\n",
      "Requirement already satisfied: torch in c:\\users\\yeganeh\\appdata\\local\\programs\\python\\python312\\lib\\site-packages (2.2.0+cu118)Note: you may need to restart the kernel to use updated packages.\n",
      "\n",
      "Requirement already satisfied: torchvision in c:\\users\\yeganeh\\appdata\\local\\programs\\python\\python312\\lib\\site-packages (0.17.0+cu118)\n",
      "Requirement already satisfied: torchaudio in c:\\users\\yeganeh\\appdata\\local\\programs\\python\\python312\\lib\\site-packages (2.2.0+cu118)\n",
      "Requirement already satisfied: tqdm in c:\\users\\yeganeh\\appdata\\local\\programs\\python\\python312\\lib\\site-packages (4.66.2)\n",
      "Requirement already satisfied: filelock in c:\\users\\yeganeh\\appdata\\local\\programs\\python\\python312\\lib\\site-packages (from torch) (3.9.0)\n",
      "Requirement already satisfied: typing-extensions>=4.8.0 in c:\\users\\yeganeh\\appdata\\local\\programs\\python\\python312\\lib\\site-packages (from torch) (4.8.0)\n",
      "Requirement already satisfied: sympy in c:\\users\\yeganeh\\appdata\\local\\programs\\python\\python312\\lib\\site-packages (from torch) (1.12)\n",
      "Requirement already satisfied: networkx in c:\\users\\yeganeh\\appdata\\local\\programs\\python\\python312\\lib\\site-packages (from torch) (3.0)\n",
      "Requirement already satisfied: jinja2 in c:\\users\\yeganeh\\appdata\\local\\programs\\python\\python312\\lib\\site-packages (from torch) (3.1.2)\n",
      "Requirement already satisfied: fsspec in c:\\users\\yeganeh\\appdata\\local\\programs\\python\\python312\\lib\\site-packages (from torch) (2023.4.0)\n",
      "Requirement already satisfied: numpy in c:\\users\\yeganeh\\appdata\\local\\programs\\python\\python312\\lib\\site-packages (from torchvision) (1.26.3)\n",
      "Requirement already satisfied: requests in c:\\users\\yeganeh\\appdata\\local\\programs\\python\\python312\\lib\\site-packages (from torchvision) (2.31.0)\n",
      "Requirement already satisfied: pillow!=8.3.*,>=5.3.0 in c:\\users\\yeganeh\\appdata\\local\\programs\\python\\python312\\lib\\site-packages (from torchvision) (10.2.0)\n",
      "Requirement already satisfied: colorama in c:\\users\\yeganeh\\appdata\\local\\programs\\python\\python312\\lib\\site-packages (from tqdm) (0.4.6)\n",
      "Requirement already satisfied: MarkupSafe>=2.0 in c:\\users\\yeganeh\\appdata\\local\\programs\\python\\python312\\lib\\site-packages (from jinja2->torch) (2.1.3)\n",
      "Requirement already satisfied: charset-normalizer<4,>=2 in c:\\users\\yeganeh\\appdata\\local\\programs\\python\\python312\\lib\\site-packages (from requests->torchvision) (2.1.1)\n",
      "Requirement already satisfied: idna<4,>=2.5 in c:\\users\\yeganeh\\appdata\\local\\programs\\python\\python312\\lib\\site-packages (from requests->torchvision) (3.4)\n",
      "Requirement already satisfied: urllib3<3,>=1.21.1 in c:\\users\\yeganeh\\appdata\\local\\programs\\python\\python312\\lib\\site-packages (from requests->torchvision) (1.26.13)\n",
      "Requirement already satisfied: certifi>=2017.4.17 in c:\\users\\yeganeh\\appdata\\local\\programs\\python\\python312\\lib\\site-packages (from requests->torchvision) (2022.12.7)\n",
      "Requirement already satisfied: mpmath>=0.19 in c:\\users\\yeganeh\\appdata\\local\\programs\\python\\python312\\lib\\site-packages (from sympy->torch) (1.3.0)\n"
     ]
    }
   ],
   "source": [
    "# only local run: install required libs (recommended python version 3.10)\n",
    "%pip install numpy\n",
    "%pip install matplotlib\n",
    "%pip install torch torchvision torchaudio tqdm"
   ]
  },
  {
   "cell_type": "markdown",
   "metadata": {},
   "source": [
    "### Import Libs"
   ]
  },
  {
   "cell_type": "code",
   "execution_count": 1,
   "metadata": {},
   "outputs": [],
   "source": [
    "import torch\n",
    "import torch.nn as nn\n",
    "import torch.nn.functional as Functions\n",
    "import torch.optim as Optimizers\n",
    "\n",
    "from torchvision.datasets import CIFAR10\n",
    "from torchvision.transforms import ToTensor\n",
    "from torch.utils.data import DataLoader\n",
    "from tqdm.auto import tqdm\n",
    "\n",
    "import matplotlib.pyplot as plt"
   ]
  },
  {
   "cell_type": "markdown",
   "metadata": {},
   "source": [
    "### Set Device\n",
    "You can use GPU instead of CPU for faster calculation!"
   ]
  },
  {
   "cell_type": "code",
   "execution_count": 2,
   "metadata": {},
   "outputs": [
    {
     "name": "stdout",
     "output_type": "stream",
     "text": [
      "cuda\n"
     ]
    }
   ],
   "source": [
    "device = \"cuda\" if torch.cuda.is_available() else \"cpu\"\n",
    "print(device)"
   ]
  },
  {
   "cell_type": "markdown",
   "metadata": {},
   "source": [
    "### Download CIFAR-10 Dataset and Transform to Tensor"
   ]
  },
  {
   "cell_type": "code",
   "execution_count": 3,
   "metadata": {},
   "outputs": [
    {
     "name": "stdout",
     "output_type": "stream",
     "text": [
      "Files already downloaded and verified\n",
      "Files already downloaded and verified\n"
     ]
    }
   ],
   "source": [
    "transform = ToTensor()\n",
    "\n",
    "\"Set download=True to download dataset online\"\n",
    "data_path = './data_cifar/'\n",
    "cifar10_train = CIFAR10(data_path, train=True, download=True, transform=transform)\n",
    "cifar10_test = CIFAR10(data_path, train=False, download=True, transform=transform)"
   ]
  },
  {
   "cell_type": "markdown",
   "metadata": {},
   "source": [
    "### A Brief View on Data"
   ]
  },
  {
   "cell_type": "code",
   "execution_count": 4,
   "metadata": {},
   "outputs": [
    {
     "name": "stdout",
     "output_type": "stream",
     "text": [
      "Training:  50000\n",
      "Testing:  10000\n",
      "<class 'tuple'>\n",
      "<class 'torch.Tensor'>\n",
      "torch.Size([3, 32, 32])\n",
      "['airplane', 'automobile', 'bird', 'cat', 'deer', 'dog', 'frog', 'horse', 'ship', 'truck']\n",
      "6\n",
      "frog\n"
     ]
    }
   ],
   "source": [
    "# size of training and test sets\n",
    "print(\"Training: \", len(cifar10_train))\n",
    "print(\"Testing: \", len(cifar10_test))\n",
    "\n",
    "# type of train and test: it is a collection of tuple(tensor, label)\n",
    "print(type(cifar10_train[0]))\n",
    "\n",
    "# label, as you know, is the class of image\n",
    "# tensor contains image data (You will learn more about Tensor later)\n",
    "image, label = cifar10_train[0]\n",
    "print(type(image))\n",
    "\n",
    "# lets check the dimension - it is a 32x32 RGB image\n",
    "print(image.shape)\n",
    "\n",
    "# lets see what classes we have\n",
    "classes = cifar10_train.classes\n",
    "print(classes)\n",
    "print(label)\n",
    "print(classes[label])"
   ]
  },
  {
   "cell_type": "markdown",
   "metadata": {},
   "source": [
    "### Define Batch Size\n",
    "It is important to understand that to build the Neural Network we will work with a large number of parameters. For this reason, it makes sense to load training data in batches."
   ]
  },
  {
   "cell_type": "code",
   "execution_count": 5,
   "metadata": {},
   "outputs": [],
   "source": [
    "\"TODO: set a proper batch size\"\n",
    "train_loader = DataLoader(cifar10_train, batch_size=128, shuffle=True)\n",
    "test_loader = DataLoader(cifar10_test, batch_size=128, shuffle=False)"
   ]
  },
  {
   "cell_type": "markdown",
   "metadata": {},
   "source": [
    "### Define Model\n",
    "Here you need to define your model architecture, use your knowledge of ANN to design one."
   ]
  },
  {
   "cell_type": "code",
   "execution_count": 6,
   "metadata": {},
   "outputs": [],
   "source": [
    "class Model(nn.Module):\n",
    "    def __init__(self):\n",
    "        super(Model, self).__init__()\n",
    "        \"TODO: define model layers\"\n",
    "        self.fc1 = nn.Linear(32 * 32 * 3, 512)\n",
    "        self.fc2 = nn.Linear(512, 256)\n",
    "        self.fc3 = nn.Linear(256, 128)\n",
    "        self.fc4 = nn.Linear(128, 64)\n",
    "        self.fc5 = nn.Linear(64, 10)\n",
    "        \n",
    "    def forward(self, x):\n",
    "        \"TODO: define model forward path\"\n",
    "        x = x.view(-1, 32 * 32 * 3)\n",
    "        x = Functions.relu(self.fc1(x))\n",
    "        x = Functions.relu(self.fc2(x))\n",
    "        x = Functions.relu(self.fc3(x))\n",
    "        x = Functions.relu(self.fc4(x))\n",
    "        x = self.fc5(x)\n",
    "        \n",
    "        return Functions.log_softmax(x, dim=1)"
   ]
  },
  {
   "cell_type": "markdown",
   "metadata": {},
   "source": [
    "### Create Model"
   ]
  },
  {
   "cell_type": "code",
   "execution_count": 7,
   "metadata": {},
   "outputs": [
    {
     "data": {
      "text/plain": [
       "Model(\n",
       "  (fc1): Linear(in_features=3072, out_features=512, bias=True)\n",
       "  (fc2): Linear(in_features=512, out_features=256, bias=True)\n",
       "  (fc3): Linear(in_features=256, out_features=128, bias=True)\n",
       "  (fc4): Linear(in_features=128, out_features=64, bias=True)\n",
       "  (fc5): Linear(in_features=64, out_features=10, bias=True)\n",
       ")"
      ]
     },
     "execution_count": 7,
     "metadata": {},
     "output_type": "execute_result"
    }
   ],
   "source": [
    "model = Model() #.to(device)\n",
    "model"
   ]
  },
  {
   "cell_type": "markdown",
   "metadata": {},
   "source": [
    "### Choose a Loss Function"
   ]
  },
  {
   "cell_type": "code",
   "execution_count": 8,
   "metadata": {},
   "outputs": [],
   "source": [
    "\"TODO: set a proper loss function\"\n",
    "criterion = nn.CrossEntropyLoss()"
   ]
  },
  {
   "cell_type": "markdown",
   "metadata": {},
   "source": [
    "### Choose an Optimizer"
   ]
  },
  {
   "cell_type": "code",
   "execution_count": 9,
   "metadata": {},
   "outputs": [],
   "source": [
    "\"TODO: set a proper optimizer\"\n",
    "optimizer = Optimizers.Adam(model.parameters(), lr=0.001)"
   ]
  },
  {
   "cell_type": "markdown",
   "metadata": {},
   "source": [
    "### Training Model\n",
    "After configuring all required parameters, it is time to train your model!"
   ]
  },
  {
   "cell_type": "code",
   "execution_count": 10,
   "metadata": {},
   "outputs": [
    {
     "data": {
      "application/vnd.jupyter.widget-view+json": {
       "model_id": "8e34a80335814177bc23ccdb4216b48c",
       "version_major": 2,
       "version_minor": 0
      },
      "text/plain": [
       "  0%|          | 0/25 [00:00<?, ?it/s]"
      ]
     },
     "metadata": {},
     "output_type": "display_data"
    }
   ],
   "source": [
    "\"TODO: set an optimal epoch\"\n",
    "EPOCHS = 25\n",
    "\n",
    "\" you don't need to change the rest of this code\"\n",
    "\n",
    "train_correct  = []\n",
    "test_correct = []\n",
    "\n",
    "best_train_acc = 0\n",
    "best_test_acc = 0\n",
    "\n",
    "for e in tqdm(range(EPOCHS)):\n",
    "\n",
    "  trn_corr = 0\n",
    "  tst_corr = 0\n",
    "\n",
    "  # training\n",
    "  model.train()\n",
    "  for X_train, y_train in train_loader:\n",
    "\n",
    "    X_train_dev = torch.autograd.Variable(X_train) #.to(device)\n",
    "    y_train_dev = torch.autograd.Variable(y_train) #.to(device)\n",
    "\n",
    "    optimizer.zero_grad()\n",
    "\n",
    "    y_pred_dev = model(X_train_dev)\n",
    "    loss = criterion(y_pred_dev, y_train_dev)\n",
    "\n",
    "    loss.backward()\n",
    "    optimizer.step()\n",
    "\n",
    "    predicted = torch.argmax(y_pred_dev, 1)\n",
    "    trn_corr += torch.sum(predicted == y_train_dev)\n",
    "\n",
    "  acc = (trn_corr/len(cifar10_train)).item()\n",
    "  best_train_acc = acc if(best_train_acc < acc) else best_train_acc\n",
    "  train_correct.append(acc)\n",
    "\n",
    "  # testing\n",
    "  model.eval()\n",
    "  for X_test, y_test in test_loader:\n",
    "\n",
    "    X_test = X_test #.to(device)\n",
    "    y_test = y_test #.to(device)\n",
    "\n",
    "    predicted = model(X_test)\n",
    "    predicted = torch.argmax(predicted, 1)\n",
    "    tst_corr += torch.sum(predicted == y_test)\n",
    "\n",
    "  acc = (tst_corr/len(cifar10_test)).item()\n",
    "  best_test_acc = acc if(best_test_acc < acc) else best_test_acc\n",
    "  test_correct.append(acc)"
   ]
  },
  {
   "cell_type": "markdown",
   "metadata": {},
   "source": [
    "### Evaluation\n",
    "Here you can see your model performance."
   ]
  },
  {
   "cell_type": "code",
   "execution_count": 11,
   "metadata": {},
   "outputs": [
    {
     "data": {
      "image/png": "[encoded data removed]",
      "text/plain": [
       "<Figure size 640x480 with 1 Axes>"
      ]
     },
     "metadata": {},
     "output_type": "display_data"
    },
    {
     "name": "stdout",
     "output_type": "stream",
     "text": [
      "\n",
      "On train - best accuracy: 0.62, final accuracy: 0.62\n",
      "On test - best accuracy: 0.54, final accuracy: 0.54\n"
     ]
    }
   ],
   "source": [
    "plt.plot(train_correct, label='train accuracy')\n",
    "plt.plot(test_correct, label = 'test accuracy')\n",
    "plt.xlabel('Epoch')\n",
    "plt.ylabel('Accuracy')\n",
    "plt.legend(loc='lower right')\n",
    "plt.show();\n",
    "\n",
    "print(\"\\nOn train - best accuracy: {:.2f}, final accuracy: {:.2f}\".format(best_train_acc, train_correct[-1]))\n",
    "print(\"On test - best accuracy: {:.2f}, final accuracy: {:.2f}\".format(best_test_acc, test_correct[-1]))"
   ]
  }
 ],
 "metadata": {
  "kernelspec": {
   "display_name": "Python 3 (ipykernel)",
   "language": "python",
   "name": "python3"
  },
  "language_info": {
   "codemirror_mode": {
    "name": "ipython",
    "version": 3
   },
   "file_extension": ".py",
   "mimetype": "text/x-python",
   "name": "python",
   "nbconvert_exporter": "python",
   "pygments_lexer": "ipython3",
   "version": "3.12.1"
  }
 },
 "nbformat": 4,
 "nbformat_minor": 4
}
